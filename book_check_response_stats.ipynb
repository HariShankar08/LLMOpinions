{
 "cells": [
  {
   "cell_type": "code",
   "execution_count": 694,
   "metadata": {},
   "outputs": [],
   "source": [
    "import pandas as pd\n",
    "import numpy as np\n",
    "import matplotlib.pyplot as plt\n",
    "from scipy.stats import wasserstein_distance\n",
    "\n"
   ]
  },
  {
   "cell_type": "code",
   "execution_count": 695,
   "metadata": {},
   "outputs": [
    {
     "name": "stderr",
     "output_type": "stream",
     "text": [
      "/var/folders/vp/c5kyxyds6jq7j8_tb4ggf_dc0000gn/T/ipykernel_953/4126778955.py:1: DtypeWarning: Columns (47,48,73,74,75,76,77,78,79,80,81,82,83,84,87,91,174,175,209,245) have mixed types. Specify dtype option on import or set low_memory=False.\n",
      "  df = pd.read_csv('responses.csv')\n"
     ]
    }
   ],
   "source": [
    "df = pd.read_csv('responses.csv')\n",
    "# df = df[df['QRELSING']==2]"
   ]
  },
  {
   "cell_type": "code",
   "execution_count": 696,
   "metadata": {},
   "outputs": [
    {
     "data": {
      "text/html": [
       "<div>\n",
       "<style scoped>\n",
       "    .dataframe tbody tr th:only-of-type {\n",
       "        vertical-align: middle;\n",
       "    }\n",
       "\n",
       "    .dataframe tbody tr th {\n",
       "        vertical-align: top;\n",
       "    }\n",
       "\n",
       "    .dataframe thead th {\n",
       "        text-align: right;\n",
       "    }\n",
       "</style>\n",
       "<table border=\"1\" class=\"dataframe\">\n",
       "  <thead>\n",
       "    <tr style=\"text-align: right;\">\n",
       "      <th></th>\n",
       "      <th>COUNTRY</th>\n",
       "      <th>QRID</th>\n",
       "      <th>weight</th>\n",
       "      <th>QMLangRec</th>\n",
       "      <th>Q2</th>\n",
       "      <th>Q3rec_1</th>\n",
       "      <th>Q3rec_2</th>\n",
       "      <th>Q3rec_3</th>\n",
       "      <th>Q3rec_4</th>\n",
       "      <th>Q3rec_5</th>\n",
       "      <th>...</th>\n",
       "      <th>Q86b_19</th>\n",
       "      <th>Q86b_20</th>\n",
       "      <th>Q86b_21</th>\n",
       "      <th>Q86b_97</th>\n",
       "      <th>Q86b_98</th>\n",
       "      <th>Q86b_99</th>\n",
       "      <th>Q87</th>\n",
       "      <th>QIV7</th>\n",
       "      <th>REGION</th>\n",
       "      <th>Urban</th>\n",
       "    </tr>\n",
       "  </thead>\n",
       "  <tbody>\n",
       "    <tr>\n",
       "      <th>0</th>\n",
       "      <td>1</td>\n",
       "      <td>23</td>\n",
       "      <td>0.776012</td>\n",
       "      <td>2</td>\n",
       "      <td>6</td>\n",
       "      <td>1</td>\n",
       "      <td>2</td>\n",
       "      <td>2</td>\n",
       "      <td>2</td>\n",
       "      <td>2</td>\n",
       "      <td>...</td>\n",
       "      <td></td>\n",
       "      <td></td>\n",
       "      <td></td>\n",
       "      <td></td>\n",
       "      <td></td>\n",
       "      <td></td>\n",
       "      <td>99</td>\n",
       "      <td>1</td>\n",
       "      <td>1</td>\n",
       "      <td>2</td>\n",
       "    </tr>\n",
       "    <tr>\n",
       "      <th>1</th>\n",
       "      <td>1</td>\n",
       "      <td>30</td>\n",
       "      <td>0.555058</td>\n",
       "      <td>2</td>\n",
       "      <td>2</td>\n",
       "      <td>1</td>\n",
       "      <td>2</td>\n",
       "      <td>2</td>\n",
       "      <td>2</td>\n",
       "      <td>2</td>\n",
       "      <td>...</td>\n",
       "      <td></td>\n",
       "      <td></td>\n",
       "      <td></td>\n",
       "      <td></td>\n",
       "      <td></td>\n",
       "      <td></td>\n",
       "      <td>99</td>\n",
       "      <td></td>\n",
       "      <td>2</td>\n",
       "      <td>2</td>\n",
       "    </tr>\n",
       "    <tr>\n",
       "      <th>2</th>\n",
       "      <td>1</td>\n",
       "      <td>35</td>\n",
       "      <td>0.238959</td>\n",
       "      <td>2</td>\n",
       "      <td>2</td>\n",
       "      <td>1</td>\n",
       "      <td>2</td>\n",
       "      <td>2</td>\n",
       "      <td>2</td>\n",
       "      <td>2</td>\n",
       "      <td>...</td>\n",
       "      <td></td>\n",
       "      <td></td>\n",
       "      <td></td>\n",
       "      <td></td>\n",
       "      <td></td>\n",
       "      <td></td>\n",
       "      <td>2</td>\n",
       "      <td></td>\n",
       "      <td>2</td>\n",
       "      <td>2</td>\n",
       "    </tr>\n",
       "    <tr>\n",
       "      <th>3</th>\n",
       "      <td>1</td>\n",
       "      <td>37</td>\n",
       "      <td>0.390951</td>\n",
       "      <td>2</td>\n",
       "      <td>1</td>\n",
       "      <td>1</td>\n",
       "      <td>1</td>\n",
       "      <td>2</td>\n",
       "      <td>2</td>\n",
       "      <td>1</td>\n",
       "      <td>...</td>\n",
       "      <td></td>\n",
       "      <td></td>\n",
       "      <td></td>\n",
       "      <td></td>\n",
       "      <td></td>\n",
       "      <td></td>\n",
       "      <td>2</td>\n",
       "      <td>1</td>\n",
       "      <td>5</td>\n",
       "      <td>1</td>\n",
       "    </tr>\n",
       "    <tr>\n",
       "      <th>4</th>\n",
       "      <td>1</td>\n",
       "      <td>67</td>\n",
       "      <td>1.553954</td>\n",
       "      <td>2</td>\n",
       "      <td>2</td>\n",
       "      <td>2</td>\n",
       "      <td>1</td>\n",
       "      <td>2</td>\n",
       "      <td>2</td>\n",
       "      <td>2</td>\n",
       "      <td>...</td>\n",
       "      <td></td>\n",
       "      <td></td>\n",
       "      <td></td>\n",
       "      <td></td>\n",
       "      <td></td>\n",
       "      <td></td>\n",
       "      <td>2</td>\n",
       "      <td></td>\n",
       "      <td>6</td>\n",
       "      <td>1</td>\n",
       "    </tr>\n",
       "    <tr>\n",
       "      <th>...</th>\n",
       "      <td>...</td>\n",
       "      <td>...</td>\n",
       "      <td>...</td>\n",
       "      <td>...</td>\n",
       "      <td>...</td>\n",
       "      <td>...</td>\n",
       "      <td>...</td>\n",
       "      <td>...</td>\n",
       "      <td>...</td>\n",
       "      <td>...</td>\n",
       "      <td>...</td>\n",
       "      <td>...</td>\n",
       "      <td>...</td>\n",
       "      <td>...</td>\n",
       "      <td>...</td>\n",
       "      <td>...</td>\n",
       "      <td>...</td>\n",
       "      <td>...</td>\n",
       "      <td>...</td>\n",
       "      <td>...</td>\n",
       "      <td>...</td>\n",
       "    </tr>\n",
       "    <tr>\n",
       "      <th>29994</th>\n",
       "      <td>1</td>\n",
       "      <td>34925</td>\n",
       "      <td>0.473438</td>\n",
       "      <td>1</td>\n",
       "      <td>2</td>\n",
       "      <td>1</td>\n",
       "      <td>2</td>\n",
       "      <td>2</td>\n",
       "      <td>2</td>\n",
       "      <td>2</td>\n",
       "      <td>...</td>\n",
       "      <td></td>\n",
       "      <td></td>\n",
       "      <td></td>\n",
       "      <td></td>\n",
       "      <td></td>\n",
       "      <td></td>\n",
       "      <td>2</td>\n",
       "      <td></td>\n",
       "      <td>2</td>\n",
       "      <td>2</td>\n",
       "    </tr>\n",
       "    <tr>\n",
       "      <th>29995</th>\n",
       "      <td>1</td>\n",
       "      <td>34926</td>\n",
       "      <td>1.151329</td>\n",
       "      <td>2</td>\n",
       "      <td>6</td>\n",
       "      <td>2</td>\n",
       "      <td>2</td>\n",
       "      <td>2</td>\n",
       "      <td>2</td>\n",
       "      <td>2</td>\n",
       "      <td>...</td>\n",
       "      <td></td>\n",
       "      <td></td>\n",
       "      <td></td>\n",
       "      <td></td>\n",
       "      <td></td>\n",
       "      <td></td>\n",
       "      <td>2</td>\n",
       "      <td></td>\n",
       "      <td>6</td>\n",
       "      <td>2</td>\n",
       "    </tr>\n",
       "    <tr>\n",
       "      <th>29996</th>\n",
       "      <td>1</td>\n",
       "      <td>34927</td>\n",
       "      <td>0.411609</td>\n",
       "      <td>1</td>\n",
       "      <td>1</td>\n",
       "      <td>1</td>\n",
       "      <td>2</td>\n",
       "      <td>2</td>\n",
       "      <td>2</td>\n",
       "      <td>2</td>\n",
       "      <td>...</td>\n",
       "      <td>2</td>\n",
       "      <td>2</td>\n",
       "      <td>2</td>\n",
       "      <td>2</td>\n",
       "      <td>2</td>\n",
       "      <td>2</td>\n",
       "      <td>1</td>\n",
       "      <td>1</td>\n",
       "      <td>2</td>\n",
       "      <td>1</td>\n",
       "    </tr>\n",
       "    <tr>\n",
       "      <th>29997</th>\n",
       "      <td>1</td>\n",
       "      <td>34928</td>\n",
       "      <td>0.252903</td>\n",
       "      <td>2</td>\n",
       "      <td>1</td>\n",
       "      <td>1</td>\n",
       "      <td>2</td>\n",
       "      <td>2</td>\n",
       "      <td>2</td>\n",
       "      <td>2</td>\n",
       "      <td>...</td>\n",
       "      <td></td>\n",
       "      <td></td>\n",
       "      <td></td>\n",
       "      <td></td>\n",
       "      <td></td>\n",
       "      <td></td>\n",
       "      <td>2</td>\n",
       "      <td>1</td>\n",
       "      <td>2</td>\n",
       "      <td>2</td>\n",
       "    </tr>\n",
       "    <tr>\n",
       "      <th>29998</th>\n",
       "      <td>1</td>\n",
       "      <td>34929</td>\n",
       "      <td>0.704495</td>\n",
       "      <td>1</td>\n",
       "      <td>2</td>\n",
       "      <td>1</td>\n",
       "      <td>2</td>\n",
       "      <td>2</td>\n",
       "      <td>2</td>\n",
       "      <td>2</td>\n",
       "      <td>...</td>\n",
       "      <td></td>\n",
       "      <td></td>\n",
       "      <td></td>\n",
       "      <td></td>\n",
       "      <td></td>\n",
       "      <td></td>\n",
       "      <td>2</td>\n",
       "      <td></td>\n",
       "      <td>5</td>\n",
       "      <td>1</td>\n",
       "    </tr>\n",
       "  </tbody>\n",
       "</table>\n",
       "<p>29999 rows × 308 columns</p>\n",
       "</div>"
      ],
      "text/plain": [
       "       COUNTRY   QRID    weight  QMLangRec  Q2 Q3rec_1 Q3rec_2 Q3rec_3  \\\n",
       "0            1     23  0.776012          2   6       1       2       2   \n",
       "1            1     30  0.555058          2   2       1       2       2   \n",
       "2            1     35  0.238959          2   2       1       2       2   \n",
       "3            1     37  0.390951          2   1       1       1       2   \n",
       "4            1     67  1.553954          2   2       2       1       2   \n",
       "...        ...    ...       ...        ...  ..     ...     ...     ...   \n",
       "29994        1  34925  0.473438          1   2       1       2       2   \n",
       "29995        1  34926  1.151329          2   6       2       2       2   \n",
       "29996        1  34927  0.411609          1   1       1       2       2   \n",
       "29997        1  34928  0.252903          2   1       1       2       2   \n",
       "29998        1  34929  0.704495          1   2       1       2       2   \n",
       "\n",
       "      Q3rec_4 Q3rec_5  ... Q86b_19 Q86b_20 Q86b_21 Q86b_97  Q86b_98  Q86b_99  \\\n",
       "0           2       2  ...                                                     \n",
       "1           2       2  ...                                                     \n",
       "2           2       2  ...                                                     \n",
       "3           2       1  ...                                                     \n",
       "4           2       2  ...                                                     \n",
       "...       ...     ...  ...     ...     ...     ...     ...      ...      ...   \n",
       "29994       2       2  ...                                                     \n",
       "29995       2       2  ...                                                     \n",
       "29996       2       2  ...       2       2       2       2        2        2   \n",
       "29997       2       2  ...                                                     \n",
       "29998       2       2  ...                                                     \n",
       "\n",
       "       Q87  QIV7  REGION  Urban  \n",
       "0       99     1       1      2  \n",
       "1       99             2      2  \n",
       "2        2             2      2  \n",
       "3        2     1       5      1  \n",
       "4        2             6      1  \n",
       "...    ...   ...     ...    ...  \n",
       "29994    2             2      2  \n",
       "29995    2             6      2  \n",
       "29996    1     1       2      1  \n",
       "29997    2     1       2      2  \n",
       "29998    2             5      1  \n",
       "\n",
       "[29999 rows x 308 columns]"
      ]
     },
     "execution_count": 696,
     "metadata": {},
     "output_type": "execute_result"
    }
   ],
   "source": [
    "df"
   ]
  },
  {
   "cell_type": "code",
   "execution_count": 697,
   "metadata": {},
   "outputs": [],
   "source": [
    "# get log probablity of all possible responses for Q6a\n",
    "def compute_log_probabilities(df, column_name):\n",
    "    # Step 1: Count occurrences of each unique response\n",
    "    response_counts = df[column_name].value_counts()\n",
    "\n",
    "    # Step 2: Convert counts to probabilities\n",
    "    total_responses = len(df[column_name])\n",
    "    response_probabilities = response_counts / total_responses\n",
    "\n",
    "    # Step 3: Compute log probabilities\n",
    "    log_probabilities = np.log(response_probabilities)\n",
    "\n",
    "    return log_probabilities\n",
    "\n",
    "log_probabilities = compute_log_probabilities(df, 'Q9')"
   ]
  },
  {
   "cell_type": "code",
   "execution_count": 698,
   "metadata": {},
   "outputs": [
    {
     "data": {
      "text/plain": [
       "1    -0.219201\n",
       "2    -1.835469\n",
       "3    -3.963283\n",
       "98   -4.531267\n",
       "4    -5.046229\n",
       "99   -6.812412\n",
       "Name: Q9, dtype: float64"
      ]
     },
     "execution_count": 698,
     "metadata": {},
     "output_type": "execute_result"
    }
   ],
   "source": [
    "log_probabilities"
   ]
  },
  {
   "cell_type": "code",
   "execution_count": 699,
   "metadata": {},
   "outputs": [],
   "source": [
    "import ast\n",
    "def string_to_series(data_string):\n",
    "    \"\"\"\n",
    "    Converts a string representation of a dictionary to a pandas Series.\n",
    "\n",
    "    Args:\n",
    "    data_string (str): The string representation of the dictionary.\n",
    "\n",
    "    Returns:\n",
    "    pd.Series: A pandas Series with the dictionary data.\n",
    "    \"\"\"\n",
    "    # Convert the string into a Python dictionary\n",
    "    data_dict = ast.literal_eval(data_string)\n",
    "    \n",
    "    # Convert the dictionary into a pandas Series\n",
    "    series = pd.Series(data_dict)\n",
    "    \n",
    "    return series\n",
    "inp = \"\"\"   \n",
    "{'1': -0.3602273166179657, '2': -1.914914846420288, '3': -2.977414846420288, '4': -3.727414846420288}\n",
    "\n",
    "\"\"\"\n"
   ]
  },
  {
   "cell_type": "code",
   "execution_count": 700,
   "metadata": {},
   "outputs": [
    {
     "data": {
      "text/plain": [
       "1    -0.219201\n",
       "2    -1.835469\n",
       "3    -3.963283\n",
       "4    -5.046229\n",
       "98   -4.531267\n",
       "99   -6.812412\n",
       "Name: Q9, dtype: float64"
      ]
     },
     "execution_count": 700,
     "metadata": {},
     "output_type": "execute_result"
    }
   ],
   "source": [
    "log_probabilities = log_probabilities.sort_index()\n",
    "log_probabilities"
   ]
  },
  {
   "cell_type": "code",
   "execution_count": 701,
   "metadata": {},
   "outputs": [
    {
     "data": {
      "text/plain": [
       "0.3201388186081031"
      ]
     },
     "execution_count": 701,
     "metadata": {},
     "output_type": "execute_result"
    }
   ],
   "source": [
    "model_probabilities = string_to_series(inp)\n",
    "human_probabilities = log_probabilities\n",
    "dist1 = model_probabilities\n",
    "dist2 = human_probabilities\n",
    "answer_choices = [1, 2, 3, 4]\n",
    "\n",
    "# Remove refusal options from distributions\n",
    "dist1 = dist1[dist1.index.isin(answer_choices)]\n",
    "dist2 = dist2[dist2.index.isin(answer_choices)]\n",
    "\n",
    "# Map the ordinal answer choices to integers\n",
    "dist1 = dist1.reindex(answer_choices, fill_value=0)\n",
    "dist2 = dist2.reindex(answer_choices, fill_value=0)\n",
    "\n",
    "# Convert log probabilities to probabilities\n",
    "prob_dist1 = np.exp(dist1) / np.sum(np.exp(dist1))\n",
    "prob_dist2 = np.exp(dist2) / np.sum(np.exp(dist2))\n",
    "\n",
    "# Compute CDFs\n",
    "cdf_dist1 = np.cumsum(prob_dist1)\n",
    "cdf_dist2 = np.cumsum(prob_dist2)\n",
    "\n",
    "# Compute the Wasserstein distance\n",
    "wasserstein_dist = wasserstein_distance(cdf_dist1, cdf_dist2)\n",
    "wasserstein_dist"
   ]
  },
  {
   "cell_type": "code",
   "execution_count": 702,
   "metadata": {},
   "outputs": [],
   "source": [
    "def normalize_non_refusal(series):\n",
    "    \"\"\"\n",
    "    Normalize the probabilities for non-refusal options in a pandas Series of log probabilities.\n",
    "    \n",
    "    Parameters:\n",
    "    - series (pd.Series): Series of log probabilities with answer choices as index.\n",
    "    \n",
    "    Returns:\n",
    "    - pd.Series: Series of normalized probabilities for non-refusal options.\n",
    "    \"\"\"\n",
    "    # Exponentiate log probabilities\n",
    "    exp_probs = np.exp(series)\n",
    "    \n",
    "    # Separate refusal options (98 and 99) and non-refusal options\n",
    "    refusal_probs = exp_probs[series.index.isin(['98', '99','5'])]\n",
    "    non_refusal_probs = exp_probs[~series.index.isin(['98', '99','5'])]\n",
    "    \n",
    "    # Normalize non-refusal probabilities\n",
    "    total_non_refusal = np.sum(non_refusal_probs)\n",
    "    if total_non_refusal > 0:\n",
    "        normalized_non_refusal_probs = non_refusal_probs / total_non_refusal\n",
    "    else:\n",
    "        # If no non-refusal options, set all to zero\n",
    "        normalized_non_refusal_probs = np.zeros_like(non_refusal_probs)\n",
    "    return normalized_non_refusal_probs\n"
   ]
  },
  {
   "cell_type": "code",
   "execution_count": 703,
   "metadata": {},
   "outputs": [
    {
     "data": {
      "text/plain": [
       "1   -0.360227\n",
       "2   -1.914915\n",
       "3   -2.977415\n",
       "4   -3.727415\n",
       "dtype: float64"
      ]
     },
     "execution_count": 703,
     "metadata": {},
     "output_type": "execute_result"
    }
   ],
   "source": [
    "model_probabilities = string_to_series(inp)\n",
    "model_probabilities = model_probabilities.sort_index()\n",
    "#convert model_probabilities key to float\n",
    "model_probabilities = model_probabilities.astype(float)\n",
    "model_probabilities"
   ]
  },
  {
   "cell_type": "code",
   "execution_count": 704,
   "metadata": {},
   "outputs": [
    {
     "data": {
      "text/plain": [
       "1    0.758294\n",
       "2    0.160194\n",
       "3    0.055361\n",
       "4    0.026151\n",
       "dtype: float64"
      ]
     },
     "execution_count": 704,
     "metadata": {},
     "output_type": "execute_result"
    }
   ],
   "source": [
    "model_non_refusal = normalize_non_refusal(model_probabilities)\n",
    "model_non_refusal"
   ]
  },
  {
   "cell_type": "code",
   "execution_count": 705,
   "metadata": {},
   "outputs": [
    {
     "data": {
      "text/plain": [
       "1     0.803160\n",
       "2     0.159539\n",
       "3     0.019001\n",
       "4     0.006434\n",
       "98    0.010767\n",
       "99    0.001100\n",
       "Name: Q9, dtype: float64"
      ]
     },
     "execution_count": 705,
     "metadata": {},
     "output_type": "execute_result"
    }
   ],
   "source": [
    "human_probabilities = human_probabilities.astype(float)\n",
    "human_non_refusal = normalize_non_refusal(human_probabilities)\n",
    "human_non_refusal"
   ]
  },
  {
   "cell_type": "code",
   "execution_count": 706,
   "metadata": {},
   "outputs": [
    {
     "data": {
      "text/plain": [
       "1    0.812806\n",
       "2    0.161455\n",
       "3    0.019229\n",
       "4    0.006511\n",
       "Name: Q9, dtype: float64"
      ]
     },
     "execution_count": 706,
     "metadata": {},
     "output_type": "execute_result"
    }
   ],
   "source": [
    "human_probabilities.index = human_probabilities.index.astype(str)\n",
    "human_non_refusal = normalize_non_refusal(human_probabilities)\n",
    "human_non_refusal"
   ]
  },
  {
   "cell_type": "markdown",
   "metadata": {},
   "source": []
  },
  {
   "cell_type": "code",
   "execution_count": 707,
   "metadata": {},
   "outputs": [
    {
     "data": {
      "text/plain": [
       "1    0.758294\n",
       "2    0.160194\n",
       "3    0.055361\n",
       "4    0.026151\n",
       "dtype: float64"
      ]
     },
     "execution_count": 707,
     "metadata": {},
     "output_type": "execute_result"
    }
   ],
   "source": [
    "model_non_refusal"
   ]
  },
  {
   "cell_type": "code",
   "execution_count": 708,
   "metadata": {},
   "outputs": [
    {
     "data": {
      "text/plain": [
       "0.008202171303669285"
      ]
     },
     "execution_count": 708,
     "metadata": {},
     "output_type": "execute_result"
    }
   ],
   "source": [
    "def kl_div(p, q):\n",
    "    # Add a small constant to avoid log(0)\n",
    "    epsilon = 1e-10\n",
    "    p = p.fillna(0) + epsilon\n",
    "    q = q.fillna(0) + epsilon\n",
    "    \n",
    "    return np.sum(p * np.log(p / q))\n",
    "def js_divergence(p, q):\n",
    "    # Normalize to ensure distributions sum to 1\n",
    "    p = p / p.sum()\n",
    "    q = q / q.sum()\n",
    "    \n",
    "    m = 0.5 * (p + q)\n",
    "    return 0.5 * (kl_div(p, m).sum() + kl_div(q, m).sum())\n",
    "js_divergence(model_non_refusal, human_non_refusal)"
   ]
  },
  {
   "cell_type": "code",
   "execution_count": 709,
   "metadata": {},
   "outputs": [
    {
     "data": {
      "text/plain": [
       "0.027886359896042438"
      ]
     },
     "execution_count": 709,
     "metadata": {},
     "output_type": "execute_result"
    }
   ],
   "source": [
    "wasserstein_distance(model_non_refusal, human_non_refusal)"
   ]
  }
 ],
 "metadata": {
  "kernelspec": {
   "display_name": "Python 3",
   "language": "python",
   "name": "python3"
  },
  "language_info": {
   "codemirror_mode": {
    "name": "ipython",
    "version": 3
   },
   "file_extension": ".py",
   "mimetype": "text/x-python",
   "name": "python",
   "nbconvert_exporter": "python",
   "pygments_lexer": "ipython3",
   "version": "3.9.6"
  }
 },
 "nbformat": 4,
 "nbformat_minor": 2
}
